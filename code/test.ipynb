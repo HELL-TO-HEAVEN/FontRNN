{
 "cells": [
  {
   "cell_type": "code",
   "execution_count": 1,
   "metadata": {},
   "outputs": [],
   "source": [
    "import os\n",
    "import random\n",
    "import numpy as np\n",
    "from tqdm import tqdm\n",
    "import tensorflow as tf\n",
    "import matplotlib.pyplot as plt\n",
    "\n",
    "\n",
    "import train\n",
    "import model\n",
    "import utils\n",
    "import gmm\n",
    "\n",
    "\n",
    "data_dir =  '../data'\n",
    "model_dir = '../log/demo'"
   ]
  },
  {
   "cell_type": "code",
   "execution_count": 2,
   "metadata": {},
   "outputs": [
    {
     "name": "stdout",
     "output_type": "stream",
     "text": [
      "Dataset combined: 6763 (train=775/validate=2915/test=3073)\n",
      "model_params.max_seq_len set to 71.\n"
     ]
    }
   ],
   "source": [
    "# load dataset and paramters\n",
    "[train_set, valid_set, test_set, std_train_set, std_valid_set, std_test_set, \n",
    "     hps_model, eval_hps_model] = train.load_env(data_dir, model_dir)"
   ]
  },
  {
   "cell_type": "code",
   "execution_count": 3,
   "metadata": {},
   "outputs": [
    {
     "name": "stdout",
     "output_type": "stream",
     "text": [
      "INFO:tensorflow:Model using LuongMonotonicAttention.\n",
      "WARNING:tensorflow:From /data1/tangss/FontRNN_release/code/gmm.py:38: softmax_cross_entropy_with_logits (from tensorflow.python.ops.nn_ops) is deprecated and will be removed in a future version.\n",
      "Instructions for updating:\n",
      "\n",
      "Future major versions of TensorFlow will allow gradients to flow\n",
      "into the labels input on backprop by default.\n",
      "\n",
      "See `tf.nn.softmax_cross_entropy_with_logits_v2`.\n",
      "\n",
      "INFO:tensorflow:Model using LuongMonotonicAttention.\n"
     ]
    }
   ],
   "source": [
    "# construct model:\n",
    "train.reset_graph()\n",
    "train_model = model.FontRNN(hps_model)\n",
    "eval_model = model.FontRNN(eval_hps_model, reuse=True)"
   ]
  },
  {
   "cell_type": "code",
   "execution_count": 4,
   "metadata": {},
   "outputs": [
    {
     "name": "stdout",
     "output_type": "stream",
     "text": [
      "Loading model ../log/demo/vector-1900.\n",
      "INFO:tensorflow:Restoring parameters from ../log/demo/vector-1900\n"
     ]
    }
   ],
   "source": [
    "# load trained checkpoint\n",
    "sess = tf.InteractiveSession()\n",
    "sess.run(tf.global_variables_initializer())\n",
    "train.load_checkpoint(sess, model_dir)"
   ]
  },
  {
   "cell_type": "code",
   "execution_count": 5,
   "metadata": {},
   "outputs": [],
   "source": [
    "def test_model(sess, testmodel, input_stroke):\n",
    "    stroke_len = len(input_stroke)\n",
    "    input_stroke = utils.to_big_strokes(input_stroke, max_len=testmodel.hps.max_seq_len).tolist()\n",
    "    input_stroke.insert(0, [0, 0, 1, 0, 0])\n",
    "    feed = {testmodel.enc_input_data: [input_stroke],\n",
    "            testmodel.enc_seq_lens: [stroke_len],\n",
    "            }\n",
    "    output = sess.run([testmodel.pi, testmodel.mu1, testmodel.mu2, testmodel.sigma1,\n",
    "                       testmodel.sigma2, testmodel.corr, testmodel.pen,\n",
    "                       testmodel.timemajor_alignment_history],\n",
    "                      feed)\n",
    "    gmm_params = output[:-1]\n",
    "    timemajor_alignment_history = output[7]\n",
    "\n",
    "    return gmm_params, timemajor_alignment_history\n",
    "\n",
    "\n",
    "def sample_from_params(params, temp=0.1, greedy=False):\n",
    "    [o_pi, o_mu1, o_mu2, o_sigma1, o_sigma2, o_corr, o_pen] = params\n",
    "\n",
    "    max_len = o_pi.shape[0]\n",
    "    num_mixture = o_pi.shape[1]\n",
    "\n",
    "    strokes = np.zeros((max_len, 5), dtype=np.float32)\n",
    "\n",
    "    for step in range(max_len):\n",
    "        next_x1 = 0\n",
    "        next_x2 = 0\n",
    "        eos = [0, 0, 0]\n",
    "        eos[np.argmax(o_pen[step])] = 1\n",
    "        for mixture in range(num_mixture):\n",
    "            x1, x2 = gmm.sample_gaussian_2d(o_mu1[step][mixture], o_mu2[step][mixture],\n",
    "                                            o_sigma1[step][mixture], o_sigma2[step][mixture],\n",
    "                                            o_corr[step][mixture], np.sqrt(temp), greedy)\n",
    "            next_x1 += x1 * o_pi[step][mixture]\n",
    "            next_x2 += x2 * o_pi[step][mixture]\n",
    "        strokes[step, :] = [next_x1, next_x2, eos[0], eos[1], eos[2]]\n",
    "    strokes = utils.to_normal_strokes(strokes)\n",
    "    return strokes\n",
    "\n",
    "def draw(delta_gt_stroke, delta_stroke):\n",
    "    ground_truth_stroke = delta_gt_stroke.copy()\n",
    "    stroke = delta_stroke.copy()\n",
    "    \n",
    "    # convert to absolute coordinate\n",
    "    scale_factor = 300\n",
    "    low_tri_matrix = np.tril(np.ones((delta_gt_stroke.shape[0], delta_gt_stroke.shape[0])), 0)\n",
    "    ground_truth_stroke[:, :2] = np.rint(scale_factor * np.matmul(low_tri_matrix, delta_gt_stroke[:, :2]))\n",
    "    low_tri_matrix = np.tril(np.ones((delta_stroke.shape[0], delta_stroke.shape[0])), 0)\n",
    "    stroke[:, :2] = np.rint(scale_factor * np.matmul(low_tri_matrix, delta_stroke[:, :2]))\n",
    "\n",
    "    plt.figure(figsize=(6, 3))\n",
    "    plt.subplot(121)\n",
    "    # plt.xlim(0, 300)\n",
    "    # plt.ylim(0, 300)\n",
    "    pre_i = 0\n",
    "    for i in range(ground_truth_stroke.shape[0]):\n",
    "        if ground_truth_stroke[i][2] == 1:\n",
    "            plt.plot(ground_truth_stroke[pre_i:i + 1, 0], ground_truth_stroke[pre_i:i + 1, 1], color='black', linewidth=3)\n",
    "            pre_i = i + 1\n",
    "    plt.axis('off')\n",
    "    plt.gca().invert_yaxis()\n",
    "    plt.title(\"Groud Truth\")\n",
    "\n",
    "    plt.subplot(122)\n",
    "    # plt.xlim(0, 300)\n",
    "    # plt.ylim(0, 300)\n",
    "    pre_i = 0\n",
    "    for i in range(stroke.shape[0]):\n",
    "        if stroke[i][2] == 1:\n",
    "            plt.plot(stroke[pre_i:i + 1, 0], stroke[pre_i:i + 1, 1], color='black', linewidth=3)\n",
    "            pre_i = i + 1\n",
    "    plt.axis('off')\n",
    "    plt.gca().invert_yaxis()\n",
    "    plt.title(\"Generated\")\n",
    "\n",
    "    plt.show()"
   ]
  },
  {
   "cell_type": "code",
   "execution_count": 6,
   "metadata": {},
   "outputs": [
    {
     "data": {
      "image/png": "[encoded data removed]",
      "text/plain": [
       "<Figure size 432x216 with 2 Axes>"
      ]
     },
     "metadata": {
      "needs_background": "light"
     },
     "output_type": "display_data"
    }
   ],
   "source": [
    "index = random.randint(0, len(std_test_set.strokes)-1)\n",
    "ref_strokes = np.copy(std_test_set.strokes[index])\n",
    "real_strokes = np.copy(test_set.strokes[index])\n",
    "\n",
    "params, timemajor_alignment_history = test_model(sess, eval_model, ref_strokes)\n",
    "fake_strokes = sample_from_params(params, greedy=True)\n",
    "\n",
    "draw(real_strokes, fake_strokes)\n",
    "plt.show()"
   ]
  },
  {
   "cell_type": "code",
   "execution_count": null,
   "metadata": {},
   "outputs": [],
   "source": []
  }
 ],
 "metadata": {
  "kernelspec": {
   "display_name": "Python [conda env:py36] *",
   "language": "python",
   "name": "conda-env-py36-py"
  },
  "language_info": {
   "codemirror_mode": {
    "name": "ipython",
    "version": 3
   },
   "file_extension": ".py",
   "mimetype": "text/x-python",
   "name": "python",
   "nbconvert_exporter": "python",
   "pygments_lexer": "ipython3",
   "version": "3.6.9"
  }
 },
 "nbformat": 4,
 "nbformat_minor": 2
}
